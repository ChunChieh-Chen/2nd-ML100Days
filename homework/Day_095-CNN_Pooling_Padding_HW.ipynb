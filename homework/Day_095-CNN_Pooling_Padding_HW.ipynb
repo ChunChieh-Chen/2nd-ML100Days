{
 "cells": [
  {
   "cell_type": "markdown",
   "metadata": {},
   "source": [
    "# 作業目標:\n",
    "    了解 Padding 的作法\n",
    "    \n",
    "    了解 Pooling 的作法"
   ]
  },
  {
   "cell_type": "markdown",
   "metadata": {},
   "source": [
    "# 作業重點:\n",
    "    (1) 調整Padding 的設定, 看 Pad 後的結果\n",
    "    \n",
    "    (2) 調整Pooling 的設定, 看 Poolin 後的結果"
   ]
  },
  {
   "cell_type": "code",
   "execution_count": 1,
   "metadata": {},
   "outputs": [],
   "source": [
    "import numpy as np\n",
    "import h5py\n",
    "import matplotlib.pyplot as plt\n",
    "\n",
    "# 繪圖結果直接顯示在Jupyter cell 之內\n",
    "%matplotlib inline  \n",
    "plt.rcParams['figure.figsize'] = (5.0, 4.0) #  設定繪圖板的大小\n",
    "plt.rcParams['image.interpolation'] = 'nearest'\n",
    "plt.rcParams['image.cmap'] = 'gray'\n",
    "\n",
    "# autoreload。可以讓我們不退出IPython就動態修改代碼，在執行代碼前IPython會幫我們自動重載改動的模塊\n",
    "%load_ext autoreload\n",
    "%autoreload 2\n",
    "np.random.seed(1)"
   ]
  },
  {
   "cell_type": "code",
   "execution_count": 2,
   "metadata": {},
   "outputs": [],
   "source": [
    "# GRADED FUNCTION: zero_pad\n",
    "def zero_pad(X, pad):\n",
    "    \"\"\"\n",
    "    對image X 做 zero-padding. \n",
    "    參數定義如下:\n",
    "    X -- python numpy array, 呈現維度 (m, n_H, n_W, n_C), 代表一批 m 個圖像\n",
    "         n_H: 圖高, n_W: 圖寬, n_C: color channels 數\n",
    "    pad -- 整數, 加幾圈的 zero padding.\n",
    "    Returns:\n",
    "    X_pad -- image of shape (m, n_H + 2*pad, n_W + 2*pad, n_C) 做完zero-padding 的結果\n",
    "    \"\"\"\n",
    "    \n",
    "    X_pad = np.pad(X, ((0, 0), (pad, pad), (pad, pad), (0, 0)), 'constant', constant_values=(0, 0))\n",
    "  \n",
    "    return X_pad"
   ]
  },
  {
   "cell_type": "code",
   "execution_count": 3,
   "metadata": {},
   "outputs": [
    {
     "name": "stdout",
     "output_type": "stream",
     "text": [
      "x.shape = (2, 8, 8, 1)\n",
      "x_pad.shape = (2, 10, 10, 1)\n",
      "x[1,1] = [[ 0.16003707]\n",
      " [ 0.87616892]\n",
      " [ 0.31563495]\n",
      " [-2.02220122]\n",
      " [-0.30620401]\n",
      " [ 0.82797464]\n",
      " [ 0.23009474]\n",
      " [ 0.76201118]]\n",
      "x_pad[1,1] = [[ 0.        ]\n",
      " [ 0.48851815]\n",
      " [-0.07557171]\n",
      " [ 1.13162939]\n",
      " [ 1.51981682]\n",
      " [ 2.18557541]\n",
      " [-1.39649634]\n",
      " [-1.44411381]\n",
      " [-0.50446586]\n",
      " [ 0.        ]]\n"
     ]
    },
    {
     "data": {
      "text/plain": [
       "<matplotlib.image.AxesImage at 0xe5afcc0>"
      ]
     },
     "execution_count": 3,
     "metadata": {},
     "output_type": "execute_result"
    },
    {
     "data": {
      "image/png": "[encoded data removed]",
      "text/plain": [
       "<Figure size 432x288 with 2 Axes>"
      ]
     },
     "metadata": {
      "needs_background": "light"
     },
     "output_type": "display_data"
    }
   ],
   "source": [
    "#作業修改\n",
    "np.random.seed(1)\n",
    "x = np.random.randn(2, 8, 8, 1)\n",
    "x_pad = zero_pad(x, 1)\n",
    "\n",
    "print (\"x.shape =\", x.shape)\n",
    "print (\"x_pad.shape =\", x_pad.shape)\n",
    "print (\"x[1,1] =\", x[1,1])\n",
    "print (\"x_pad[1,1] =\", x_pad[1,1])\n",
    "fig, axarr = plt.subplots(1, 2)\n",
    "axarr[0].set_title('x')\n",
    "axarr[0].imshow(x[0,:,:,0])\n",
    "axarr[1].set_title('x_pad')\n",
    "axarr[1].imshow(x_pad[0,:,:,0])"
   ]
  },
  {
   "cell_type": "code",
   "execution_count": 4,
   "metadata": {},
   "outputs": [],
   "source": [
    "# GRADED FUNCTION: pool_forward\n",
    "def pool_forward(A_prev, hparameters, mode = \"max\"):\n",
    "    \"\"\"\n",
    "    設計一個前行網路的池化層\n",
    "    參數定義如下:\n",
    "    A_prev -- 輸入的numpy 陣列, 維度 (m, n_H_prev, n_W_prev, n_C_prev)\n",
    "    hparameter 超參數 --  \"f\" and \"stride\" 所形成的python 字典\n",
    "    mode -- 池化的模式: \"max\" or \"average\"\n",
    "    \n",
    "    返回:\n",
    "        A -- 輸出的池化層, 維度為 (m, n_H, n_W, n_C) 的 numpy 陣列\n",
    "        cache -- 可以應用在 backward pass pooling layer 資料, 包含 input and hparameter\n",
    "    \"\"\"\n",
    "\n",
    "    # 檢索尺寸 from the input shape\n",
    "    (m, n_H_prev, n_W_prev, n_C_prev) = A_prev.shape\n",
    " \n",
    "    # 檢索超參數 from \"hparameters\"\n",
    "    f = hparameters[\"f\"]\n",
    "    stride = hparameters[\"stride\"]\n",
    "\n",
    "    # 定義輸出的dimensions\n",
    "    n_H = int(1 + (n_H_prev - f) / stride)\n",
    "    n_W = int(1 + (n_W_prev - f) / stride)\n",
    "    n_C = n_C_prev\n",
    "\n",
    "    # 初始化輸出的 matrix A\n",
    "    A = np.zeros((m, n_H, n_W, n_C))\n",
    "\n",
    "    ### 程式起始位置  ###\n",
    "    for i in range(m): # 訓練樣本的for 迴圈\n",
    "        for h in range(n_H): # 輸出樣本的for 迴圈, 針對vertical axis\n",
    "            for w in range(n_W): #  輸出樣本的for 迴圈, 針對 horizontal axis\n",
    "                for c in range (n_C): #  輸出樣本的for 迴圈, 針對channels\n",
    "\n",
    "                     # 找出特徵圖的寬度跟高度四個點\n",
    "                    vert_start = h * stride\n",
    "                    vert_end = h * stride+ f\n",
    "                    horiz_start = w * stride\n",
    "                    horiz_end = w * stride + f\n",
    "\n",
    "                    # 定義第i個訓練示例\n",
    "                    a_prev_slice = A_prev[i, vert_start:vert_end, horiz_start:horiz_end,c]\n",
    "\n",
    "                    # 計算輸入data 的池化結果. 使用 if statment 去做分類\n",
    "                    if mode == \"max\":\n",
    "                        A[i, h, w, c] = np.max(a_prev_slice)\n",
    "                    elif mode == \"average\":\n",
    "                        A[i, h, w, c] = np.mean(a_prev_slice)\n",
    "\n",
    "                        ### 程式結束  ###\n",
    "    \n",
    "    # 儲存輸入的特徵圖跟所設定的超參數, 可以用在 pool_backward()\n",
    "    cache = (A_prev, hparameters)\n",
    "    \n",
    "    # 確認輸出的資料維度\n",
    "    assert(A.shape == (m, n_H, n_W, n_C))\n",
    "    return A, cache"
   ]
  },
  {
   "cell_type": "code",
   "execution_count": 7,
   "metadata": {},
   "outputs": [
    {
     "name": "stdout",
     "output_type": "stream",
     "text": [
      "mode = max\n",
      "A = [[[[1.74481176 1.25286816 0.88514116]\n",
      "   [1.13162939 1.6924546  2.18557541]\n",
      "   [1.14472371 0.90159072 2.10025514]]\n",
      "\n",
      "  [[0.80186103 0.86888616 1.12948391]\n",
      "   [1.96710175 1.12141771 1.27375593]\n",
      "   [2.18697965 0.74055645 1.2245077 ]]\n",
      "\n",
      "  [[2.19069973 1.6169496  1.40754   ]\n",
      "   [2.44936865 2.52832571 1.95487808]\n",
      "   [1.29322588 0.31354772 1.9560789 ]]]\n",
      "\n",
      "\n",
      " [[[2.06578332 1.54335911 1.81053491]\n",
      "   [1.39984394 2.05117344 3.03085711]\n",
      "   [0.82458463 1.20205486 0.417302  ]]\n",
      "\n",
      "  [[1.19268607 1.12232832 1.15528789]\n",
      "   [0.51507361 1.76795995 1.27852808]\n",
      "   [2.11060505 2.13782807 1.83471763]]\n",
      "\n",
      "  [[2.05635552 1.78975468 1.7653351 ]\n",
      "   [1.11584111 1.61336137 1.86647138]\n",
      "   [0.67457071 2.0546241  1.1157018 ]]]]\n",
      "\n",
      "mode = average\n",
      "A = [[[[-0.02318193  0.03129281 -0.0492332 ]\n",
      "   [-0.37300701  0.35609792  0.06936546]\n",
      "   [-0.04592917  0.19980606  0.2501499 ]]\n",
      "\n",
      "  [[ 0.09457519  0.15887921 -0.22032834]\n",
      "   [ 0.15341945 -0.32490224  0.42223021]\n",
      "   [ 0.38448447  0.15553901 -0.32380658]]\n",
      "\n",
      "  [[ 0.5311303   0.32871592  0.24457664]\n",
      "   [ 0.32351711  0.17948679  0.27803213]\n",
      "   [-0.27828705 -0.71923426  0.41706765]]]\n",
      "\n",
      "\n",
      " [[[ 0.0184673  -0.27298053  0.36331477]\n",
      "   [-0.09993632  0.36723824  0.53517481]\n",
      "   [-0.3428055   0.29099658 -0.25402002]]\n",
      "\n",
      "  [[ 0.13086751 -0.03874336  0.0033845 ]\n",
      "   [-0.56361001 -0.35227138 -0.29896419]\n",
      "   [ 0.26378866  0.17477641  0.10273564]]\n",
      "\n",
      "  [[ 0.50413317  0.39891523  0.23946121]\n",
      "   [-0.24529208 -0.24433735 -0.06648518]\n",
      "   [-0.43863408  0.81658143 -0.05956247]]]]\n",
      "A_prev shape:  (2, 9, 9, 3)\n",
      "A shape:  (2, 3, 3, 3)\n"
     ]
    }
   ],
   "source": [
    "# 作業修改\n",
    "np.random.seed(1)\n",
    "A_prev = np.random.randn(2, 9, 9, 3)\n",
    "hparameters = {\"stride\" : 3, \"f\": 3}\n",
    "\n",
    "A, cache = pool_forward(A_prev, hparameters)\n",
    "print(\"mode = max\")\n",
    "print(\"A =\", A)\n",
    "print()\n",
    "A, cache = pool_forward(A_prev, hparameters, mode = \"average\")\n",
    "print(\"mode = average\")\n",
    "print(\"A =\", A)\n",
    "\n",
    "print(\"A_prev shape: \", A_prev.shape)\n",
    "print(\"A shape: \", A.shape)"
   ]
  },
  {
   "cell_type": "code",
   "execution_count": null,
   "metadata": {},
   "outputs": [],
   "source": []
  }
 ],
 "metadata": {
  "kernelspec": {
   "display_name": "Python 3",
   "language": "python",
   "name": "python3"
  },
  "language_info": {
   "codemirror_mode": {
    "name": "ipython",
    "version": 3
   },
   "file_extension": ".py",
   "mimetype": "text/x-python",
   "name": "python",
   "nbconvert_exporter": "python",
   "pygments_lexer": "ipython3",
   "version": "3.7.1"
  }
 },
 "nbformat": 4,
 "nbformat_minor": 2
}
