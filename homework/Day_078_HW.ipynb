{
 "cells": [
  {
   "cell_type": "markdown",
   "metadata": {},
   "source": [
    "## Work\n",
    "1. 請嘗試將 preproc_x 替換成以每筆資料的 min/max 進行標準化至 -1 ~ 1 間，再進行訓練\n",
    "2. 請嘗試將 mlp 疊更深 (e.g 5~10 層)，進行訓練後觀察 learning curve 的走勢\n",
    "3. (optional) 請改用 GPU 進行訓練 (如果你有 GPU 的話)，比較使用 CPU 與 GPU 的訓練速度"
   ]
  },
  {
   "cell_type": "code",
   "execution_count": 1,
   "metadata": {},
   "outputs": [],
   "source": [
    "## \n",
    "\"\"\"\n",
    "Your code here (optional)\n",
    "確認硬體資源\n",
    "\"\"\"\n"
   ]
  },
  {
   "cell_type": "code",
   "execution_count": 1,
   "metadata": {},
   "outputs": [
    {
     "name": "stderr",
     "output_type": "stream",
     "text": [
      "Using TensorFlow backend.\n"
     ]
    }
   ],
   "source": [
    "import os\n",
    "import keras\n",
    "\n",
    "# 請嘗試設定 GPU：os.environ\n"
   ]
  },
  {
   "cell_type": "code",
   "execution_count": 2,
   "metadata": {},
   "outputs": [],
   "source": [
    "train, test = keras.datasets.cifar10.load_data()"
   ]
  },
  {
   "cell_type": "code",
   "execution_count": 12,
   "metadata": {},
   "outputs": [],
   "source": [
    "## 資料前處理\n",
    "\"\"\"\n",
    "Your code here\n",
    "\"\"\"\n",
    "import numpy as np\n",
    "\n",
    "def preproc_x(x, flatten=True):\n",
    "    x = ((x - np.min(x)) / (np.max(x) - np.min(x))) * 2 - 1\n",
    "    if flatten:\n",
    "        x = x.reshape((len(x), -1))\n",
    "    return x\n",
    "\n",
    "def preproc_y(y, num_classes=10):\n",
    "    if y.shape[-1] == 1:\n",
    "        y = keras.utils.to_categorical(y, num_classes)\n",
    "    return y   "
   ]
  },
  {
   "cell_type": "code",
   "execution_count": 13,
   "metadata": {},
   "outputs": [],
   "source": [
    "x_train, y_train = train\n",
    "x_test, y_test = test\n",
    "\n",
    "# Preproc the inputs\n",
    "x_train = preproc_x(x_train)\n",
    "x_test = preproc_x(x_test)\n",
    "\n",
    "# Preprc the outputs\n",
    "y_train = preproc_y(y_train)\n",
    "y_test = preproc_y(y_test)"
   ]
  },
  {
   "cell_type": "code",
   "execution_count": 14,
   "metadata": {},
   "outputs": [
    {
     "name": "stderr",
     "output_type": "stream",
     "text": [
      "WARNING: Logging before flag parsing goes to stderr.\n",
      "W0730 21:24:43.047000  8956 deprecation_wrapper.py:119] From C:\\Users\\Hui\\Anaconda3\\lib\\site-packages\\keras\\backend\\tensorflow_backend.py:74: The name tf.get_default_graph is deprecated. Please use tf.compat.v1.get_default_graph instead.\n",
      "\n",
      "W0730 21:24:43.068000  8956 deprecation_wrapper.py:119] From C:\\Users\\Hui\\Anaconda3\\lib\\site-packages\\keras\\backend\\tensorflow_backend.py:517: The name tf.placeholder is deprecated. Please use tf.compat.v1.placeholder instead.\n",
      "\n",
      "W0730 21:24:43.073000  8956 deprecation_wrapper.py:119] From C:\\Users\\Hui\\Anaconda3\\lib\\site-packages\\keras\\backend\\tensorflow_backend.py:4138: The name tf.random_uniform is deprecated. Please use tf.random.uniform instead.\n",
      "\n"
     ]
    },
    {
     "name": "stdout",
     "output_type": "stream",
     "text": [
      "_________________________________________________________________\n",
      "Layer (type)                 Output Shape              Param #   \n",
      "=================================================================\n",
      "input_1 (InputLayer)         (None, 3072)              0         \n",
      "_________________________________________________________________\n",
      "hidden_layer1 (Dense)        (None, 512)               1573376   \n",
      "_________________________________________________________________\n",
      "hidden_layer2 (Dense)        (None, 256)               131328    \n",
      "_________________________________________________________________\n",
      "hidden_layer3 (Dense)        (None, 128)               32896     \n",
      "_________________________________________________________________\n",
      "hidden_layer4 (Dense)        (None, 64)                8256      \n",
      "_________________________________________________________________\n",
      "hidden_layer5 (Dense)        (None, 32)                2080      \n",
      "_________________________________________________________________\n",
      "hidden_layer6 (Dense)        (None, 16)                528       \n",
      "_________________________________________________________________\n",
      "output (Dense)               (None, 10)                170       \n",
      "=================================================================\n",
      "Total params: 1,748,634\n",
      "Trainable params: 1,748,634\n",
      "Non-trainable params: 0\n",
      "_________________________________________________________________\n"
     ]
    }
   ],
   "source": [
    "\"\"\"Code Here\n",
    "建立你的神經網路\n",
    "\"\"\"\n",
    "def build_mlp(input_shape, output_units=10, num_neurons=[512, 256, 128]):\n",
    "    input_layer = keras.layers.Input(input_shape)\n",
    "    \n",
    "    for i, n_units in enumerate(num_neurons):\n",
    "        if i == 0:\n",
    "            x = keras.layers.Dense(units=n_units, activation=\"relu\", name=\"hidden_layer\"+str(i+1))(input_layer)\n",
    "        else:\n",
    "            x = keras.layers.Dense(units=n_units, activation=\"relu\", name=\"hidden_layer\"+str(i+1))(x)\n",
    "    \n",
    "    out = keras.layers.Dense(units=output_units, activation=\"softmax\", name=\"output\")(x)\n",
    "    \n",
    "    model = keras.models.Model(inputs=[input_layer], outputs=[out])\n",
    "    return model\n",
    "\n",
    "model = build_mlp(input_shape=x_train.shape[1:], output_units=10, num_neurons=[512, 256, 128, 64, 32, 16])\n",
    "model.summary()"
   ]
  },
  {
   "cell_type": "code",
   "execution_count": 15,
   "metadata": {},
   "outputs": [],
   "source": [
    "## 超參數設定\n",
    "LEARNING_RATE = 0.001\n",
    "EPOCHS = 100\n",
    "BATCH_SIZE = 256"
   ]
  },
  {
   "cell_type": "code",
   "execution_count": 16,
   "metadata": {},
   "outputs": [
    {
     "name": "stderr",
     "output_type": "stream",
     "text": [
      "W0730 21:25:04.709000  8956 deprecation_wrapper.py:119] From C:\\Users\\Hui\\Anaconda3\\lib\\site-packages\\keras\\optimizers.py:790: The name tf.train.Optimizer is deprecated. Please use tf.compat.v1.train.Optimizer instead.\n",
      "\n",
      "W0730 21:25:04.720000  8956 deprecation_wrapper.py:119] From C:\\Users\\Hui\\Anaconda3\\lib\\site-packages\\keras\\backend\\tensorflow_backend.py:3295: The name tf.log is deprecated. Please use tf.math.log instead.\n",
      "\n"
     ]
    }
   ],
   "source": [
    "optimizer = keras.optimizers.Adam(lr=LEARNING_RATE)\n",
    "model.compile(loss=\"categorical_crossentropy\", metrics=[\"accuracy\"], optimizer=optimizer)"
   ]
  },
  {
   "cell_type": "code",
   "execution_count": 17,
   "metadata": {},
   "outputs": [
    {
     "name": "stderr",
     "output_type": "stream",
     "text": [
      "W0730 21:25:06.517000  8956 deprecation.py:323] From C:\\Users\\Hui\\Anaconda3\\lib\\site-packages\\tensorflow\\python\\ops\\math_grad.py:1250: add_dispatch_support.<locals>.wrapper (from tensorflow.python.ops.array_ops) is deprecated and will be removed in a future version.\n",
      "Instructions for updating:\n",
      "Use tf.where in 2.0, which has the same broadcast rule as np.where\n",
      "W0730 21:25:06.574000  8956 deprecation_wrapper.py:119] From C:\\Users\\Hui\\Anaconda3\\lib\\site-packages\\keras\\backend\\tensorflow_backend.py:986: The name tf.assign_add is deprecated. Please use tf.compat.v1.assign_add instead.\n",
      "\n"
     ]
    },
    {
     "name": "stdout",
     "output_type": "stream",
     "text": [
      "Train on 50000 samples, validate on 10000 samples\n",
      "Epoch 1/100\n",
      "50000/50000 [==============================] - 8s 155us/step - loss: 1.8421 - acc: 0.3482 - val_loss: 1.6500 - val_acc: 0.4239\n",
      "Epoch 2/100\n",
      "50000/50000 [==============================] - 7s 145us/step - loss: 1.5697 - acc: 0.4534 - val_loss: 1.5149 - val_acc: 0.4724\n",
      "Epoch 3/100\n",
      "50000/50000 [==============================] - 7s 145us/step - loss: 1.4357 - acc: 0.4989 - val_loss: 1.4619 - val_acc: 0.4895\n",
      "Epoch 4/100\n",
      "50000/50000 [==============================] - 7s 145us/step - loss: 1.3326 - acc: 0.5339 - val_loss: 1.4166 - val_acc: 0.5027\n",
      "Epoch 5/100\n",
      "50000/50000 [==============================] - 7s 145us/step - loss: 1.2413 - acc: 0.5637 - val_loss: 1.3830 - val_acc: 0.5243\n",
      "Epoch 6/100\n",
      "50000/50000 [==============================] - 7s 144us/step - loss: 1.1657 - acc: 0.5872 - val_loss: 1.3929 - val_acc: 0.5213\n",
      "Epoch 7/100\n",
      "50000/50000 [==============================] - 7s 145us/step - loss: 1.0857 - acc: 0.6158 - val_loss: 1.3846 - val_acc: 0.5233\n",
      "Epoch 8/100\n",
      "50000/50000 [==============================] - 7s 144us/step - loss: 1.0217 - acc: 0.6396 - val_loss: 1.4007 - val_acc: 0.5301\n",
      "Epoch 9/100\n",
      "50000/50000 [==============================] - 7s 145us/step - loss: 0.9456 - acc: 0.6667 - val_loss: 1.3971 - val_acc: 0.5381\n",
      "Epoch 10/100\n",
      "50000/50000 [==============================] - 7s 145us/step - loss: 0.8833 - acc: 0.6877 - val_loss: 1.4439 - val_acc: 0.5348\n",
      "Epoch 11/100\n",
      "50000/50000 [==============================] - 7s 145us/step - loss: 0.8105 - acc: 0.7124 - val_loss: 1.5088 - val_acc: 0.5320\n",
      "Epoch 12/100\n",
      "50000/50000 [==============================] - 7s 145us/step - loss: 0.7561 - acc: 0.7307 - val_loss: 1.5477 - val_acc: 0.5339\n",
      "Epoch 13/100\n",
      "50000/50000 [==============================] - 7s 145us/step - loss: 0.7037 - acc: 0.7512 - val_loss: 1.6402 - val_acc: 0.5309\n",
      "Epoch 14/100\n",
      "50000/50000 [==============================] - 7s 145us/step - loss: 0.6534 - acc: 0.7663 - val_loss: 1.6407 - val_acc: 0.5352\n",
      "Epoch 15/100\n",
      "50000/50000 [==============================] - 7s 145us/step - loss: 0.5966 - acc: 0.7868 - val_loss: 1.7519 - val_acc: 0.5291\n",
      "Epoch 16/100\n",
      "50000/50000 [==============================] - 7s 145us/step - loss: 0.5551 - acc: 0.8008 - val_loss: 1.8209 - val_acc: 0.5282\n",
      "Epoch 17/100\n",
      "50000/50000 [==============================] - 7s 146us/step - loss: 0.5107 - acc: 0.8184 - val_loss: 1.8735 - val_acc: 0.5252\n",
      "Epoch 18/100\n",
      "50000/50000 [==============================] - 7s 145us/step - loss: 0.4763 - acc: 0.8302 - val_loss: 1.9326 - val_acc: 0.5293\n",
      "Epoch 19/100\n",
      "50000/50000 [==============================] - 7s 145us/step - loss: 0.4284 - acc: 0.8488 - val_loss: 2.0105 - val_acc: 0.5275\n",
      "Epoch 20/100\n",
      "50000/50000 [==============================] - 7s 146us/step - loss: 0.4088 - acc: 0.8559 - val_loss: 2.1710 - val_acc: 0.5274\n",
      "Epoch 21/100\n",
      "50000/50000 [==============================] - 7s 145us/step - loss: 0.3780 - acc: 0.8672 - val_loss: 2.2337 - val_acc: 0.5272\n",
      "Epoch 22/100\n",
      "50000/50000 [==============================] - 7s 146us/step - loss: 0.3485 - acc: 0.8754 - val_loss: 2.3183 - val_acc: 0.5333\n",
      "Epoch 23/100\n",
      "50000/50000 [==============================] - 7s 145us/step - loss: 0.3302 - acc: 0.8839 - val_loss: 2.4088 - val_acc: 0.5252\n",
      "Epoch 24/100\n",
      "50000/50000 [==============================] - 7s 145us/step - loss: 0.3133 - acc: 0.8909 - val_loss: 2.4247 - val_acc: 0.5270\n",
      "Epoch 25/100\n",
      "50000/50000 [==============================] - 7s 145us/step - loss: 0.2862 - acc: 0.8974 - val_loss: 2.6122 - val_acc: 0.5253\n",
      "Epoch 26/100\n",
      "50000/50000 [==============================] - 7s 146us/step - loss: 0.2788 - acc: 0.9016 - val_loss: 2.6029 - val_acc: 0.5262\n",
      "Epoch 27/100\n",
      "50000/50000 [==============================] - 7s 146us/step - loss: 0.2604 - acc: 0.9095 - val_loss: 2.6238 - val_acc: 0.5222\n",
      "Epoch 28/100\n",
      "50000/50000 [==============================] - 7s 145us/step - loss: 0.2514 - acc: 0.9125 - val_loss: 2.5983 - val_acc: 0.5278\n",
      "Epoch 29/100\n",
      "50000/50000 [==============================] - 7s 146us/step - loss: 0.2258 - acc: 0.9211 - val_loss: 2.7914 - val_acc: 0.5243\n",
      "Epoch 30/100\n",
      "50000/50000 [==============================] - 7s 146us/step - loss: 0.2249 - acc: 0.9207 - val_loss: 2.8834 - val_acc: 0.5243\n",
      "Epoch 31/100\n",
      "50000/50000 [==============================] - 7s 145us/step - loss: 0.1945 - acc: 0.9331 - val_loss: 2.9406 - val_acc: 0.5191\n",
      "Epoch 32/100\n",
      "50000/50000 [==============================] - 7s 146us/step - loss: 0.2425 - acc: 0.9170 - val_loss: 2.8160 - val_acc: 0.5269\n",
      "Epoch 33/100\n",
      "50000/50000 [==============================] - 7s 146us/step - loss: 0.1984 - acc: 0.9316 - val_loss: 2.9359 - val_acc: 0.5297\n",
      "Epoch 34/100\n",
      "50000/50000 [==============================] - 7s 146us/step - loss: 0.1733 - acc: 0.9411 - val_loss: 2.9898 - val_acc: 0.5214\n",
      "Epoch 35/100\n",
      "50000/50000 [==============================] - 7s 146us/step - loss: 0.1731 - acc: 0.9415 - val_loss: 3.1668 - val_acc: 0.5263\n",
      "Epoch 36/100\n",
      "50000/50000 [==============================] - 7s 146us/step - loss: 0.1859 - acc: 0.9369 - val_loss: 3.1132 - val_acc: 0.5271\n",
      "Epoch 37/100\n",
      "50000/50000 [==============================] - 7s 146us/step - loss: 0.1673 - acc: 0.9433 - val_loss: 3.2690 - val_acc: 0.5262\n",
      "Epoch 38/100\n",
      "50000/50000 [==============================] - 7s 146us/step - loss: 0.1641 - acc: 0.9444 - val_loss: 3.2295 - val_acc: 0.5254\n",
      "Epoch 39/100\n",
      "50000/50000 [==============================] - 7s 147us/step - loss: 0.1675 - acc: 0.9428 - val_loss: 3.1380 - val_acc: 0.5237\n",
      "Epoch 40/100\n",
      "50000/50000 [==============================] - 7s 146us/step - loss: 0.1657 - acc: 0.9431 - val_loss: 3.2120 - val_acc: 0.5277\n",
      "Epoch 41/100\n",
      "50000/50000 [==============================] - 7s 147us/step - loss: 0.1496 - acc: 0.9488 - val_loss: 3.3394 - val_acc: 0.5350\n",
      "Epoch 42/100\n",
      "50000/50000 [==============================] - 7s 147us/step - loss: 0.1345 - acc: 0.9547 - val_loss: 3.3250 - val_acc: 0.5242\n",
      "Epoch 43/100\n",
      "50000/50000 [==============================] - 7s 147us/step - loss: 0.1412 - acc: 0.9530 - val_loss: 3.4221 - val_acc: 0.5234\n",
      "Epoch 44/100\n",
      "50000/50000 [==============================] - 7s 146us/step - loss: 0.1444 - acc: 0.9516 - val_loss: 3.4315 - val_acc: 0.5311\n",
      "Epoch 45/100\n",
      "50000/50000 [==============================] - 7s 147us/step - loss: 0.1557 - acc: 0.9474 - val_loss: 3.2923 - val_acc: 0.5271\n",
      "Epoch 46/100\n",
      "50000/50000 [==============================] - 7s 147us/step - loss: 0.1296 - acc: 0.9568 - val_loss: 3.4450 - val_acc: 0.5243\n",
      "Epoch 47/100\n",
      "50000/50000 [==============================] - 7s 147us/step - loss: 0.1190 - acc: 0.9607 - val_loss: 3.5114 - val_acc: 0.5242\n",
      "Epoch 48/100\n",
      "50000/50000 [==============================] - 7s 146us/step - loss: 0.1336 - acc: 0.9561 - val_loss: 3.5180 - val_acc: 0.5200\n",
      "Epoch 49/100\n",
      "50000/50000 [==============================] - 7s 146us/step - loss: 0.1430 - acc: 0.9537 - val_loss: 3.4020 - val_acc: 0.5276\n",
      "Epoch 50/100\n",
      "50000/50000 [==============================] - 7s 146us/step - loss: 0.1161 - acc: 0.9619 - val_loss: 3.4966 - val_acc: 0.5236\n",
      "Epoch 51/100\n",
      "50000/50000 [==============================] - 7s 146us/step - loss: 0.1224 - acc: 0.9600 - val_loss: 3.5393 - val_acc: 0.5264\n",
      "Epoch 52/100\n",
      "50000/50000 [==============================] - 7s 146us/step - loss: 0.1247 - acc: 0.9590 - val_loss: 3.4133 - val_acc: 0.5292\n",
      "Epoch 53/100\n",
      "50000/50000 [==============================] - 7s 146us/step - loss: 0.1147 - acc: 0.9624 - val_loss: 3.4992 - val_acc: 0.5257\n",
      "Epoch 54/100\n",
      "50000/50000 [==============================] - 7s 146us/step - loss: 0.1153 - acc: 0.9608 - val_loss: 3.5736 - val_acc: 0.5232\n",
      "Epoch 55/100\n",
      "50000/50000 [==============================] - 7s 146us/step - loss: 0.0992 - acc: 0.9672 - val_loss: 3.6709 - val_acc: 0.5173\n",
      "Epoch 56/100\n",
      "50000/50000 [==============================] - 7s 147us/step - loss: 0.1081 - acc: 0.9642 - val_loss: 3.6438 - val_acc: 0.5216\n",
      "Epoch 57/100\n",
      "50000/50000 [==============================] - 7s 146us/step - loss: 0.1371 - acc: 0.9538 - val_loss: 3.6066 - val_acc: 0.5169\n",
      "Epoch 58/100\n",
      "50000/50000 [==============================] - 7s 147us/step - loss: 0.1061 - acc: 0.9648 - val_loss: 3.5504 - val_acc: 0.5251\n",
      "Epoch 59/100\n"
     ]
    },
    {
     "name": "stdout",
     "output_type": "stream",
     "text": [
      "50000/50000 [==============================] - 7s 144us/step - loss: 0.0867 - acc: 0.9715 - val_loss: 3.7079 - val_acc: 0.5295\n",
      "Epoch 60/100\n",
      "50000/50000 [==============================] - 7s 143us/step - loss: 0.1158 - acc: 0.9618 - val_loss: 3.7364 - val_acc: 0.5178\n",
      "Epoch 61/100\n",
      "50000/50000 [==============================] - 7s 144us/step - loss: 0.1127 - acc: 0.9639 - val_loss: 3.5762 - val_acc: 0.5307\n",
      "Epoch 62/100\n",
      "50000/50000 [==============================] - 7s 144us/step - loss: 0.0909 - acc: 0.9696 - val_loss: 3.8205 - val_acc: 0.5299\n",
      "Epoch 63/100\n",
      "50000/50000 [==============================] - 7s 143us/step - loss: 0.0952 - acc: 0.9688 - val_loss: 3.7481 - val_acc: 0.5272\n",
      "Epoch 64/100\n",
      "50000/50000 [==============================] - 7s 143us/step - loss: 0.1097 - acc: 0.9642 - val_loss: 3.6002 - val_acc: 0.5242\n",
      "Epoch 65/100\n",
      "50000/50000 [==============================] - 7s 144us/step - loss: 0.0971 - acc: 0.9689 - val_loss: 3.6702 - val_acc: 0.5284\n",
      "Epoch 66/100\n",
      "50000/50000 [==============================] - 7s 144us/step - loss: 0.0757 - acc: 0.9759 - val_loss: 3.7708 - val_acc: 0.5278\n",
      "Epoch 67/100\n",
      "50000/50000 [==============================] - 7s 144us/step - loss: 0.1039 - acc: 0.9661 - val_loss: 3.7797 - val_acc: 0.5244\n",
      "Epoch 68/100\n",
      "50000/50000 [==============================] - 7s 144us/step - loss: 0.1029 - acc: 0.9661 - val_loss: 3.7663 - val_acc: 0.5284\n",
      "Epoch 69/100\n",
      "50000/50000 [==============================] - 7s 144us/step - loss: 0.0850 - acc: 0.9721 - val_loss: 3.7617 - val_acc: 0.5290\n",
      "Epoch 70/100\n",
      "50000/50000 [==============================] - 7s 144us/step - loss: 0.0938 - acc: 0.9693 - val_loss: 3.6810 - val_acc: 0.5266\n",
      "Epoch 71/100\n",
      "50000/50000 [==============================] - 7s 144us/step - loss: 0.0880 - acc: 0.9711 - val_loss: 3.8661 - val_acc: 0.5252\n",
      "Epoch 72/100\n",
      "50000/50000 [==============================] - 7s 144us/step - loss: 0.0920 - acc: 0.9701 - val_loss: 3.7440 - val_acc: 0.5255\n",
      "Epoch 73/100\n",
      "50000/50000 [==============================] - 7s 144us/step - loss: 0.0803 - acc: 0.9732 - val_loss: 3.8194 - val_acc: 0.5316\n",
      "Epoch 74/100\n",
      "50000/50000 [==============================] - 7s 144us/step - loss: 0.0759 - acc: 0.9746 - val_loss: 3.8035 - val_acc: 0.5291\n",
      "Epoch 75/100\n",
      "50000/50000 [==============================] - 7s 144us/step - loss: 0.1028 - acc: 0.9663 - val_loss: 3.7637 - val_acc: 0.5294\n",
      "Epoch 76/100\n",
      "50000/50000 [==============================] - 7s 144us/step - loss: 0.1013 - acc: 0.9669 - val_loss: 3.7651 - val_acc: 0.5270\n",
      "Epoch 77/100\n",
      "50000/50000 [==============================] - 7s 144us/step - loss: 0.0702 - acc: 0.9773 - val_loss: 3.8535 - val_acc: 0.5274\n",
      "Epoch 78/100\n",
      "50000/50000 [==============================] - 7s 144us/step - loss: 0.0752 - acc: 0.9751 - val_loss: 3.9325 - val_acc: 0.5222\n",
      "Epoch 79/100\n",
      "50000/50000 [==============================] - 7s 144us/step - loss: 0.0703 - acc: 0.9771 - val_loss: 3.9198 - val_acc: 0.5273\n",
      "Epoch 80/100\n",
      "50000/50000 [==============================] - 7s 144us/step - loss: 0.0782 - acc: 0.9736 - val_loss: 3.9319 - val_acc: 0.5222\n",
      "Epoch 81/100\n",
      "50000/50000 [==============================] - 7s 144us/step - loss: 0.0677 - acc: 0.9777 - val_loss: 3.9861 - val_acc: 0.5197\n",
      "Epoch 82/100\n",
      "50000/50000 [==============================] - 7s 143us/step - loss: 0.0936 - acc: 0.9707 - val_loss: 3.9095 - val_acc: 0.5219\n",
      "Epoch 83/100\n",
      "50000/50000 [==============================] - 7s 144us/step - loss: 0.0924 - acc: 0.9695 - val_loss: 3.7471 - val_acc: 0.5313\n",
      "Epoch 84/100\n",
      "50000/50000 [==============================] - 7s 144us/step - loss: 0.0702 - acc: 0.9771 - val_loss: 3.9761 - val_acc: 0.5268\n",
      "Epoch 85/100\n",
      "50000/50000 [==============================] - 7s 144us/step - loss: 0.0889 - acc: 0.9722 - val_loss: 3.8300 - val_acc: 0.5259\n",
      "Epoch 86/100\n",
      "50000/50000 [==============================] - 7s 145us/step - loss: 0.0543 - acc: 0.9822 - val_loss: 4.0044 - val_acc: 0.5277\n",
      "Epoch 87/100\n",
      "50000/50000 [==============================] - 7s 144us/step - loss: 0.0802 - acc: 0.9747 - val_loss: 3.8544 - val_acc: 0.5210\n",
      "Epoch 88/100\n",
      "50000/50000 [==============================] - 7s 144us/step - loss: 0.0829 - acc: 0.9739 - val_loss: 3.8864 - val_acc: 0.5285\n",
      "Epoch 89/100\n",
      "50000/50000 [==============================] - 7s 144us/step - loss: 0.0654 - acc: 0.9784 - val_loss: 3.8813 - val_acc: 0.5274\n",
      "Epoch 90/100\n",
      "50000/50000 [==============================] - 7s 144us/step - loss: 0.0647 - acc: 0.9795 - val_loss: 3.9346 - val_acc: 0.5222\n",
      "Epoch 91/100\n",
      "50000/50000 [==============================] - 7s 144us/step - loss: 0.0726 - acc: 0.9769 - val_loss: 4.0173 - val_acc: 0.5260\n",
      "Epoch 92/100\n",
      "50000/50000 [==============================] - 7s 145us/step - loss: 0.0928 - acc: 0.9701 - val_loss: 3.7423 - val_acc: 0.5285\n",
      "Epoch 93/100\n",
      "50000/50000 [==============================] - 7s 144us/step - loss: 0.0790 - acc: 0.9749 - val_loss: 3.7802 - val_acc: 0.5258\n",
      "Epoch 94/100\n",
      "50000/50000 [==============================] - 7s 144us/step - loss: 0.0683 - acc: 0.9785 - val_loss: 3.9464 - val_acc: 0.5284\n",
      "Epoch 95/100\n",
      "50000/50000 [==============================] - 7s 144us/step - loss: 0.0716 - acc: 0.9773 - val_loss: 3.9381 - val_acc: 0.5208\n",
      "Epoch 96/100\n",
      "50000/50000 [==============================] - 7s 144us/step - loss: 0.0633 - acc: 0.9795 - val_loss: 4.0187 - val_acc: 0.5323\n",
      "Epoch 97/100\n",
      "50000/50000 [==============================] - 7s 144us/step - loss: 0.0825 - acc: 0.9742 - val_loss: 3.9153 - val_acc: 0.5240\n",
      "Epoch 98/100\n",
      "50000/50000 [==============================] - 7s 145us/step - loss: 0.0675 - acc: 0.9788 - val_loss: 3.9737 - val_acc: 0.5232\n",
      "Epoch 99/100\n",
      "50000/50000 [==============================] - 7s 144us/step - loss: 0.0578 - acc: 0.9815 - val_loss: 3.9535 - val_acc: 0.5308\n",
      "Epoch 100/100\n",
      "50000/50000 [==============================] - 7s 146us/step - loss: 0.0613 - acc: 0.9809 - val_loss: 4.1168 - val_acc: 0.5258\n"
     ]
    },
    {
     "data": {
      "text/plain": [
       "<keras.callbacks.History at 0x5572668>"
      ]
     },
     "execution_count": 17,
     "metadata": {},
     "output_type": "execute_result"
    }
   ],
   "source": [
    "model.fit(x_train, y_train, \n",
    "          epochs=EPOCHS, \n",
    "          batch_size=BATCH_SIZE, \n",
    "          validation_data=(x_test, y_test), \n",
    "          shuffle=True)"
   ]
  },
  {
   "cell_type": "code",
   "execution_count": 19,
   "metadata": {},
   "outputs": [
    {
     "data": {
      "image/png": "[encoded data removed]",
      "text/plain": [
       "<Figure size 432x288 with 1 Axes>"
      ]
     },
     "metadata": {
      "needs_background": "light"
     },
     "output_type": "display_data"
    },
    {
     "data": {
      "image/png": "[encoded data removed]",
      "text/plain": [
       "<Figure size 432x288 with 1 Axes>"
      ]
     },
     "metadata": {
      "needs_background": "light"
     },
     "output_type": "display_data"
    }
   ],
   "source": [
    "import matplotlib.pyplot as plt\n",
    "\n",
    "\n",
    "train_loss = model.history.history[\"loss\"]\n",
    "valid_loss = model.history.history[\"val_loss\"]\n",
    "\n",
    "train_acc = model.history.history[\"acc\"]\n",
    "valid_acc = model.history.history[\"val_acc\"]\n",
    "\n",
    "plt.plot(range(len(train_loss)), train_loss, label=\"train loss\")\n",
    "plt.plot(range(len(valid_loss)), valid_loss, label=\"valid loss\")\n",
    "plt.legend()\n",
    "plt.title(\"Loss\")\n",
    "plt.show()\n",
    "\n",
    "plt.plot(range(len(train_acc)), train_acc, label=\"train accuracy\")\n",
    "plt.plot(range(len(valid_acc)), valid_acc, label=\"valid accuracy\")\n",
    "plt.legend()\n",
    "plt.title(\"Accuracy\")\n",
    "plt.show()"
   ]
  },
  {
   "cell_type": "code",
   "execution_count": null,
   "metadata": {},
   "outputs": [],
   "source": []
  }
 ],
 "metadata": {
  "kernelspec": {
   "display_name": "Python 3",
   "language": "python",
   "name": "python3"
  },
  "language_info": {
   "codemirror_mode": {
    "name": "ipython",
    "version": 3
   },
   "file_extension": ".py",
   "mimetype": "text/x-python",
   "name": "python",
   "nbconvert_exporter": "python",
   "pygments_lexer": "ipython3",
   "version": "3.7.1"
  }
 },
 "nbformat": 4,
 "nbformat_minor": 2
}
